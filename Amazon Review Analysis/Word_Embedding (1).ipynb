{
  "cells": [
    {
      "cell_type": "code",
      "execution_count": null,
      "metadata": {
        "colab": {
          "base_uri": "https://localhost:8080/"
        },
        "id": "VwTxRQEZIkVV",
        "outputId": "1441fc1f-7820-4c2f-e3df-a09e17796f51"
      },
      "outputs": [
        {
          "output_type": "stream",
          "name": "stdout",
          "text": [
            "Looking in indexes: https://pypi.org/simple, https://us-python.pkg.dev/colab-wheels/public/simple/\n",
            "Requirement already satisfied: gensim in /usr/local/lib/python3.8/dist-packages (3.6.0)\n",
            "Requirement already satisfied: numpy>=1.11.3 in /usr/local/lib/python3.8/dist-packages (from gensim) (1.21.6)\n",
            "Requirement already satisfied: smart-open>=1.2.1 in /usr/local/lib/python3.8/dist-packages (from gensim) (5.2.1)\n",
            "Requirement already satisfied: six>=1.5.0 in /usr/local/lib/python3.8/dist-packages (from gensim) (1.15.0)\n",
            "Requirement already satisfied: scipy>=0.18.1 in /usr/local/lib/python3.8/dist-packages (from gensim) (1.7.3)\n",
            "Object \"install\" is unknown, try \"ip help\".\n"
          ]
        },
        {
          "output_type": "stream",
          "name": "stderr",
          "text": [
            "[nltk_data] Downloading package averaged_perceptron_tagger to\n",
            "[nltk_data]     /root/nltk_data...\n",
            "[nltk_data]   Package averaged_perceptron_tagger is already up-to-\n",
            "[nltk_data]       date!\n",
            "[nltk_data] Downloading package punkt to /root/nltk_data...\n",
            "[nltk_data]   Package punkt is already up-to-date!\n",
            "[nltk_data] Downloading package omw-1.4 to /root/nltk_data...\n",
            "[nltk_data]   Package omw-1.4 is already up-to-date!\n",
            "[nltk_data] Downloading package stopwords to /root/nltk_data...\n",
            "[nltk_data]   Package stopwords is already up-to-date!\n",
            "[nltk_data] Downloading package vader_lexicon to /root/nltk_data...\n",
            "[nltk_data]   Package vader_lexicon is already up-to-date!\n",
            "[nltk_data] Downloading package wordnet to /root/nltk_data...\n",
            "[nltk_data]   Package wordnet is already up-to-date!\n"
          ]
        }
      ],
      "source": [
        "!pip install gensim\n",
        "!pip install tensorflow\n",
        "\n",
        "# Data\n",
        "import json\n",
        "import gzip\n",
        "import pandas as pd\n",
        "import numpy as np\n",
        "import seaborn as sns\n",
        "import matplotlib.pyplot as plt\n",
        "import random\n",
        "\n",
        "# NTLK, preprocessing\n",
        "import nltk\n",
        "import re\n",
        "import string\n",
        "nltk.download('averaged_perceptron_tagger')\n",
        "nltk.download('punkt')\n",
        "nltk.download('omw-1.4')\n",
        "nltk.download('stopwords')\n",
        "nltk.download('vader_lexicon')\n",
        "nltk.download('wordnet')\n",
        "from nltk import word_tokenize, sent_tokenize\n",
        "from nltk.corpus import wordnet, stopwords\n",
        "from nltk.sentiment.vader import SentimentIntensityAnalyzer\n",
        "from nltk.stem import WordNetLemmatizer\n",
        "from nltk.tag import pos_tag\n",
        "from nltk.tokenize import TweetTokenizer\n",
        "# import multiprocessing\n",
        "\n",
        "# Word2Vec\n",
        "import gensim\n",
        "import gensim.downloader as gensim_api\n",
        "from gensim.models import Word2Vec\n",
        "\n",
        "# Word Embedding\n",
        "import tensorflow\n",
        "from tensorflow import keras\n",
        "from keras.initializers import Constant\n",
        "from keras.preprocessing.text import Tokenizer\n",
        "from keras.models import Sequential\n",
        "from keras.layers import Bidirectional, Dense, Embedding, LSTM, GRU\n",
        "from keras.utils import pad_sequences, to_categorical\n",
        "\n",
        "# Sklearn\n",
        "from sklearn.decomposition import PCA\n",
        "from sklearn.feature_extraction.text import TfidfVectorizer\n",
        "from sklearn.model_selection import train_test_split\n",
        "from sklearn.svm import LinearSVC\n",
        "from sklearn.svm import SVC\n",
        "from sklearn.neural_network import MLPClassifier\n",
        "from sklearn.ensemble import RandomForestClassifier\n",
        "from sklearn.linear_model import SGDClassifier\n",
        "from sklearn.metrics import accuracy_score\n",
        "\n",
        "pd.set_option('display.max_columns', None)\n",
        "\n",
        "# The below is necessary for starting Numpy generated random numbers\n",
        "# in a well-defined initial state.\n",
        "np.random.seed(42)\n",
        "\n",
        "# The below is necessary for starting core Python generated random numbers\n",
        "# in a well-defined state.\n",
        "random.seed(42)\n",
        "\n",
        "# The below set_seed() will make random number generation\n",
        "# in the TensorFlow backend have a well-defined initial state.\n",
        "# For further details, see:\n",
        "# https://www.tensorflow.org/api_docs/python/tf/random/set_seed\n",
        "tensorflow.random.set_seed(42)"
      ]
    },
    {
      "cell_type": "code",
      "execution_count": null,
      "metadata": {
        "colab": {
          "base_uri": "https://localhost:8080/"
        },
        "id": "AoAvz-XLItPL",
        "outputId": "ca9a33f4-4309-4cf0-8b82-9866505f33d0"
      },
      "outputs": [
        {
          "output_type": "stream",
          "name": "stdout",
          "text": [
            "Drive already mounted at /content/drive; to attempt to forcibly remount, call drive.mount(\"/content/drive\", force_remount=True).\n"
          ]
        }
      ],
      "source": [
        "from google.colab import drive\n",
        "drive.mount('/content/drive')"
      ]
    },
    {
      "cell_type": "code",
      "execution_count": null,
      "metadata": {
        "colab": {
          "base_uri": "https://localhost:8080/"
        },
        "id": "GBhkIHvNJIxJ",
        "outputId": "b1c2481c-c4d8-4b97-b714-dcf71778cce9"
      },
      "outputs": [
        {
          "output_type": "stream",
          "name": "stderr",
          "text": [
            "/usr/local/lib/python3.8/dist-packages/IPython/core/interactiveshell.py:3326: DtypeWarning: Columns (1) have mixed types.Specify dtype option on import or set low_memory=False.\n",
            "  exec(code_obj, self.user_global_ns, self.user_ns)\n"
          ]
        }
      ],
      "source": [
        "data = pd.read_csv('/content/drive/MyDrive/DMA Final/pet_supplies.csv')"
      ]
    },
    {
      "cell_type": "code",
      "execution_count": null,
      "metadata": {
        "id": "Z-9bP-PmJPoo"
      },
      "outputs": [],
      "source": [
        "# Creating copy of untouched dataframe to avoid reloading top cells later\n",
        "df_eda = data.copy()"
      ]
    },
    {
      "cell_type": "markdown",
      "metadata": {
        "id": "LaUi6ruJJRAr"
      },
      "source": [
        "# EDA\n",
        "First some cleanup:"
      ]
    },
    {
      "cell_type": "code",
      "execution_count": null,
      "metadata": {
        "colab": {
          "base_uri": "https://localhost:8080/"
        },
        "id": "djYpU8jjJQIZ",
        "outputId": "33265160-43b5-4d55-9219-7bb4101e3591"
      },
      "outputs": [
        {
          "output_type": "execute_result",
          "data": {
            "text/plain": [
              "overall                 0\n",
              "vote              1850700\n",
              "verified                0\n",
              "reviewTime              0\n",
              "reviewerID              0\n",
              "asin                    0\n",
              "reviewerName          188\n",
              "reviewText            650\n",
              "summary               431\n",
              "unixReviewTime          0\n",
              "style              661607\n",
              "image             2032573\n",
              "dtype: int64"
            ]
          },
          "metadata": {},
          "execution_count": 5
        }
      ],
      "source": [
        "df_eda.isnull().sum()"
      ]
    },
    {
      "cell_type": "markdown",
      "metadata": {
        "id": "wbhVhBTwJaA1"
      },
      "source": [
        "Since our focus is on analyzing the sentiments of the reviews, let's drop the rows with missing 'reviewText' values -- this is ok, as 650 is not a big hit to our 2 million plus size dataset."
      ]
    },
    {
      "cell_type": "code",
      "execution_count": null,
      "metadata": {
        "colab": {
          "base_uri": "https://localhost:8080/"
        },
        "id": "qsjozlcOJX70",
        "outputId": "734fafc4-dcf8-4243-ffd2-c8b16ff574f8"
      },
      "outputs": [
        {
          "output_type": "execute_result",
          "data": {
            "text/plain": [
              "overall                 0\n",
              "vote              1850166\n",
              "verified                0\n",
              "reviewTime              0\n",
              "reviewerID              0\n",
              "asin                    0\n",
              "reviewerName          188\n",
              "reviewText              0\n",
              "summary               399\n",
              "unixReviewTime          0\n",
              "style              661422\n",
              "image             2032245\n",
              "dtype: int64"
            ]
          },
          "metadata": {},
          "execution_count": 6
        }
      ],
      "source": [
        "df_eda = df_eda[df_eda['reviewText'].notna()]\n",
        "df_eda.isnull().sum()"
      ]
    },
    {
      "cell_type": "markdown",
      "metadata": {
        "id": "AUVMe-ItJi_S"
      },
      "source": [
        "Seems like a lot of null values in 'image', 'vote', and 'style'. Votes can be used to indicate helpfulness of reviews, but since our topic is sentiment analysis and helpfulness can be applied to both positive and negative reviews, 'vote' is not too relevant and can be dropped.  \n",
        "\n",
        "'reviewerName' can also be dropped, as 'reviewerID' exists as a means of identification. 'summary' is generally a more succinct version of 'reviewText'; it could be interesting to compare how differently our models compare the two, so let's store it just in case before dropping it.\n",
        "\n"
      ]
    },
    {
      "cell_type": "code",
      "execution_count": null,
      "metadata": {
        "colab": {
          "base_uri": "https://localhost:8080/"
        },
        "id": "catjPsi4Jjs4",
        "outputId": "bc79be07-8eae-45ee-e985-e05634f57cfe"
      },
      "outputs": [
        {
          "output_type": "execute_result",
          "data": {
            "text/plain": [
              "overall           0\n",
              "verified          0\n",
              "reviewTime        0\n",
              "reviewerID        0\n",
              "asin              0\n",
              "reviewText        0\n",
              "unixReviewTime    0\n",
              "dtype: int64"
            ]
          },
          "metadata": {},
          "execution_count": 7
        }
      ],
      "source": [
        "eda_summary = df_eda['summary']\n",
        "\n",
        "df_eda = df_eda.drop(columns=['vote', 'reviewerName', 'summary', 'style', 'image'], axis = 1)\n",
        "df_eda.isnull().sum()"
      ]
    },
    {
      "cell_type": "markdown",
      "metadata": {
        "id": "0K4U5fZJJmnV"
      },
      "source": [
        "What is the proportion of verified reviews? There exists the risk of fraudulent or dishonest reviews; un-verified reviews make up about 0.09 of the dataset, this is low enough we can likely use only verified reviews to reduce the risk."
      ]
    },
    {
      "cell_type": "code",
      "execution_count": null,
      "metadata": {
        "colab": {
          "base_uri": "https://localhost:8080/"
        },
        "id": "KOY6bRy4JnDV",
        "outputId": "ddc3941c-e6c6-46e2-df29-a45795bcca86"
      },
      "outputs": [
        {
          "output_type": "execute_result",
          "data": {
            "text/plain": [
              "True     1928427\n",
              "False     169248\n",
              "Name: verified, dtype: int64"
            ]
          },
          "metadata": {},
          "execution_count": 8
        }
      ],
      "source": [
        "df_eda['verified'].value_counts()"
      ]
    },
    {
      "cell_type": "code",
      "execution_count": null,
      "metadata": {
        "colab": {
          "base_uri": "https://localhost:8080/"
        },
        "id": "dHfMyihpJzA0",
        "outputId": "88ceb9a0-be19-46af-b363-49d3d87bf170"
      },
      "outputs": [
        {
          "output_type": "stream",
          "name": "stdout",
          "text": [
            "Number of reviews:  1928427\n",
            "Number of unique reviewers:  235400\n",
            "Number of unique products:  42407\n",
            "Average rating score across products:  4.293\n",
            "Average rating score of products:  4.215\n"
          ]
        }
      ],
      "source": [
        "df_eda = df_eda[df_eda['verified'] == True]\n",
        "\n",
        "# Total reviews\n",
        "print (\"Number of reviews: \", len(df_eda))\n",
        "\n",
        "# How many unique reviewers?\n",
        "print (\"Number of unique reviewers: \", len(df_eda.reviewerID.unique()))\n",
        "\n",
        "# How many unique products?\n",
        "print (\"Number of unique products: \", len(df_eda.asin.unique()))\n",
        "\n",
        "# Average rating score across products\n",
        "print (\"Average rating score across products: \", round(df_eda.overall.mean(),3))\n",
        "\n",
        "# Average rating score of products\n",
        "df_asin = df_eda.groupby('asin').mean()\n",
        "print (\"Average rating score of products: \", round(df_asin.overall.mean(),3))"
      ]
    },
    {
      "cell_type": "code",
      "execution_count": null,
      "metadata": {
        "colab": {
          "base_uri": "https://localhost:8080/",
          "height": 455
        },
        "id": "WYBGEoLbJ2x8",
        "outputId": "f3953176-e85c-4cf4-8760-76dde6115298"
      },
      "outputs": [
        {
          "output_type": "execute_result",
          "data": {
            "text/plain": [
              "            overall  verified  reviewTime  reviewerID  reviewText  \\\n",
              "asin                                                                \n",
              "B000W5QSYA    12853     12853       12853       12853       12853   \n",
              "B0013MVJPY    11290     11290       11290       11290       11290   \n",
              "B0012NV9NQ    11288     11288       11288       11288       11288   \n",
              "B0009YD8OC     6135      6135        6135        6135        6135   \n",
              "B001A5IXRG     5647      5647        5647        5647        5647   \n",
              "...             ...       ...         ...         ...         ...   \n",
              "B00544SDU6        1         1           1           1           1   \n",
              "B000XZBTCK        1         1           1           1           1   \n",
              "B01H260XZG        1         1           1           1           1   \n",
              "B00KM2NH1K        1         1           1           1           1   \n",
              "B0017JDIVG        1         1           1           1           1   \n",
              "\n",
              "            unixReviewTime  \n",
              "asin                        \n",
              "B000W5QSYA           12853  \n",
              "B0013MVJPY           11290  \n",
              "B0012NV9NQ           11288  \n",
              "B0009YD8OC            6135  \n",
              "B001A5IXRG            5647  \n",
              "...                    ...  \n",
              "B00544SDU6               1  \n",
              "B000XZBTCK               1  \n",
              "B01H260XZG               1  \n",
              "B00KM2NH1K               1  \n",
              "B0017JDIVG               1  \n",
              "\n",
              "[42407 rows x 6 columns]"
            ],
            "text/html": [
              "\n",
              "  <div id=\"df-d915a5cc-3dae-4fc8-bd8a-5c2a51a43eb1\">\n",
              "    <div class=\"colab-df-container\">\n",
              "      <div>\n",
              "<style scoped>\n",
              "    .dataframe tbody tr th:only-of-type {\n",
              "        vertical-align: middle;\n",
              "    }\n",
              "\n",
              "    .dataframe tbody tr th {\n",
              "        vertical-align: top;\n",
              "    }\n",
              "\n",
              "    .dataframe thead th {\n",
              "        text-align: right;\n",
              "    }\n",
              "</style>\n",
              "<table border=\"1\" class=\"dataframe\">\n",
              "  <thead>\n",
              "    <tr style=\"text-align: right;\">\n",
              "      <th></th>\n",
              "      <th>overall</th>\n",
              "      <th>verified</th>\n",
              "      <th>reviewTime</th>\n",
              "      <th>reviewerID</th>\n",
              "      <th>reviewText</th>\n",
              "      <th>unixReviewTime</th>\n",
              "    </tr>\n",
              "    <tr>\n",
              "      <th>asin</th>\n",
              "      <th></th>\n",
              "      <th></th>\n",
              "      <th></th>\n",
              "      <th></th>\n",
              "      <th></th>\n",
              "      <th></th>\n",
              "    </tr>\n",
              "  </thead>\n",
              "  <tbody>\n",
              "    <tr>\n",
              "      <th>B000W5QSYA</th>\n",
              "      <td>12853</td>\n",
              "      <td>12853</td>\n",
              "      <td>12853</td>\n",
              "      <td>12853</td>\n",
              "      <td>12853</td>\n",
              "      <td>12853</td>\n",
              "    </tr>\n",
              "    <tr>\n",
              "      <th>B0013MVJPY</th>\n",
              "      <td>11290</td>\n",
              "      <td>11290</td>\n",
              "      <td>11290</td>\n",
              "      <td>11290</td>\n",
              "      <td>11290</td>\n",
              "      <td>11290</td>\n",
              "    </tr>\n",
              "    <tr>\n",
              "      <th>B0012NV9NQ</th>\n",
              "      <td>11288</td>\n",
              "      <td>11288</td>\n",
              "      <td>11288</td>\n",
              "      <td>11288</td>\n",
              "      <td>11288</td>\n",
              "      <td>11288</td>\n",
              "    </tr>\n",
              "    <tr>\n",
              "      <th>B0009YD8OC</th>\n",
              "      <td>6135</td>\n",
              "      <td>6135</td>\n",
              "      <td>6135</td>\n",
              "      <td>6135</td>\n",
              "      <td>6135</td>\n",
              "      <td>6135</td>\n",
              "    </tr>\n",
              "    <tr>\n",
              "      <th>B001A5IXRG</th>\n",
              "      <td>5647</td>\n",
              "      <td>5647</td>\n",
              "      <td>5647</td>\n",
              "      <td>5647</td>\n",
              "      <td>5647</td>\n",
              "      <td>5647</td>\n",
              "    </tr>\n",
              "    <tr>\n",
              "      <th>...</th>\n",
              "      <td>...</td>\n",
              "      <td>...</td>\n",
              "      <td>...</td>\n",
              "      <td>...</td>\n",
              "      <td>...</td>\n",
              "      <td>...</td>\n",
              "    </tr>\n",
              "    <tr>\n",
              "      <th>B00544SDU6</th>\n",
              "      <td>1</td>\n",
              "      <td>1</td>\n",
              "      <td>1</td>\n",
              "      <td>1</td>\n",
              "      <td>1</td>\n",
              "      <td>1</td>\n",
              "    </tr>\n",
              "    <tr>\n",
              "      <th>B000XZBTCK</th>\n",
              "      <td>1</td>\n",
              "      <td>1</td>\n",
              "      <td>1</td>\n",
              "      <td>1</td>\n",
              "      <td>1</td>\n",
              "      <td>1</td>\n",
              "    </tr>\n",
              "    <tr>\n",
              "      <th>B01H260XZG</th>\n",
              "      <td>1</td>\n",
              "      <td>1</td>\n",
              "      <td>1</td>\n",
              "      <td>1</td>\n",
              "      <td>1</td>\n",
              "      <td>1</td>\n",
              "    </tr>\n",
              "    <tr>\n",
              "      <th>B00KM2NH1K</th>\n",
              "      <td>1</td>\n",
              "      <td>1</td>\n",
              "      <td>1</td>\n",
              "      <td>1</td>\n",
              "      <td>1</td>\n",
              "      <td>1</td>\n",
              "    </tr>\n",
              "    <tr>\n",
              "      <th>B0017JDIVG</th>\n",
              "      <td>1</td>\n",
              "      <td>1</td>\n",
              "      <td>1</td>\n",
              "      <td>1</td>\n",
              "      <td>1</td>\n",
              "      <td>1</td>\n",
              "    </tr>\n",
              "  </tbody>\n",
              "</table>\n",
              "<p>42407 rows × 6 columns</p>\n",
              "</div>\n",
              "      <button class=\"colab-df-convert\" onclick=\"convertToInteractive('df-d915a5cc-3dae-4fc8-bd8a-5c2a51a43eb1')\"\n",
              "              title=\"Convert this dataframe to an interactive table.\"\n",
              "              style=\"display:none;\">\n",
              "        \n",
              "  <svg xmlns=\"http://www.w3.org/2000/svg\" height=\"24px\"viewBox=\"0 0 24 24\"\n",
              "       width=\"24px\">\n",
              "    <path d=\"M0 0h24v24H0V0z\" fill=\"none\"/>\n",
              "    <path d=\"M18.56 5.44l.94 2.06.94-2.06 2.06-.94-2.06-.94-.94-2.06-.94 2.06-2.06.94zm-11 1L8.5 8.5l.94-2.06 2.06-.94-2.06-.94L8.5 2.5l-.94 2.06-2.06.94zm10 10l.94 2.06.94-2.06 2.06-.94-2.06-.94-.94-2.06-.94 2.06-2.06.94z\"/><path d=\"M17.41 7.96l-1.37-1.37c-.4-.4-.92-.59-1.43-.59-.52 0-1.04.2-1.43.59L10.3 9.45l-7.72 7.72c-.78.78-.78 2.05 0 2.83L4 21.41c.39.39.9.59 1.41.59.51 0 1.02-.2 1.41-.59l7.78-7.78 2.81-2.81c.8-.78.8-2.07 0-2.86zM5.41 20L4 18.59l7.72-7.72 1.47 1.35L5.41 20z\"/>\n",
              "  </svg>\n",
              "      </button>\n",
              "      \n",
              "  <style>\n",
              "    .colab-df-container {\n",
              "      display:flex;\n",
              "      flex-wrap:wrap;\n",
              "      gap: 12px;\n",
              "    }\n",
              "\n",
              "    .colab-df-convert {\n",
              "      background-color: #E8F0FE;\n",
              "      border: none;\n",
              "      border-radius: 50%;\n",
              "      cursor: pointer;\n",
              "      display: none;\n",
              "      fill: #1967D2;\n",
              "      height: 32px;\n",
              "      padding: 0 0 0 0;\n",
              "      width: 32px;\n",
              "    }\n",
              "\n",
              "    .colab-df-convert:hover {\n",
              "      background-color: #E2EBFA;\n",
              "      box-shadow: 0px 1px 2px rgba(60, 64, 67, 0.3), 0px 1px 3px 1px rgba(60, 64, 67, 0.15);\n",
              "      fill: #174EA6;\n",
              "    }\n",
              "\n",
              "    [theme=dark] .colab-df-convert {\n",
              "      background-color: #3B4455;\n",
              "      fill: #D2E3FC;\n",
              "    }\n",
              "\n",
              "    [theme=dark] .colab-df-convert:hover {\n",
              "      background-color: #434B5C;\n",
              "      box-shadow: 0px 1px 3px 1px rgba(0, 0, 0, 0.15);\n",
              "      filter: drop-shadow(0px 1px 2px rgba(0, 0, 0, 0.3));\n",
              "      fill: #FFFFFF;\n",
              "    }\n",
              "  </style>\n",
              "\n",
              "      <script>\n",
              "        const buttonEl =\n",
              "          document.querySelector('#df-d915a5cc-3dae-4fc8-bd8a-5c2a51a43eb1 button.colab-df-convert');\n",
              "        buttonEl.style.display =\n",
              "          google.colab.kernel.accessAllowed ? 'block' : 'none';\n",
              "\n",
              "        async function convertToInteractive(key) {\n",
              "          const element = document.querySelector('#df-d915a5cc-3dae-4fc8-bd8a-5c2a51a43eb1');\n",
              "          const dataTable =\n",
              "            await google.colab.kernel.invokeFunction('convertToInteractive',\n",
              "                                                     [key], {});\n",
              "          if (!dataTable) return;\n",
              "\n",
              "          const docLinkHtml = 'Like what you see? Visit the ' +\n",
              "            '<a target=\"_blank\" href=https://colab.research.google.com/notebooks/data_table.ipynb>data table notebook</a>'\n",
              "            + ' to learn more about interactive tables.';\n",
              "          element.innerHTML = '';\n",
              "          dataTable['output_type'] = 'display_data';\n",
              "          await google.colab.output.renderOutput(dataTable, element);\n",
              "          const docLink = document.createElement('div');\n",
              "          docLink.innerHTML = docLinkHtml;\n",
              "          element.appendChild(docLink);\n",
              "        }\n",
              "      </script>\n",
              "    </div>\n",
              "  </div>\n",
              "  "
            ]
          },
          "metadata": {},
          "execution_count": 10
        }
      ],
      "source": [
        "# Which product is viewed the most?\n",
        "df_eda.groupby('asin').count().sort_values('overall', ascending=False)"
      ]
    },
    {
      "cell_type": "code",
      "execution_count": null,
      "metadata": {
        "colab": {
          "base_uri": "https://localhost:8080/",
          "height": 237
        },
        "id": "NzM3l6diJ5D3",
        "outputId": "27bd5008-d08b-4e49-cb68-56a3787306ec"
      },
      "outputs": [
        {
          "output_type": "execute_result",
          "data": {
            "text/plain": [
              "         verified  reviewTime  reviewerID     asin  reviewText  unixReviewTime\n",
              "overall                                                                       \n",
              "1.0        118491      118491      118491   118491      118491          118491\n",
              "2.0         97843       97843       97843    97843       97843           97843\n",
              "3.0        164660      164660      164660   164660      164660          164660\n",
              "4.0        266797      266797      266797   266797      266797          266797\n",
              "5.0       1280636     1280636     1280636  1280636     1280636         1280636"
            ],
            "text/html": [
              "\n",
              "  <div id=\"df-f66c14ad-12a5-482b-ba96-baf8f04be324\">\n",
              "    <div class=\"colab-df-container\">\n",
              "      <div>\n",
              "<style scoped>\n",
              "    .dataframe tbody tr th:only-of-type {\n",
              "        vertical-align: middle;\n",
              "    }\n",
              "\n",
              "    .dataframe tbody tr th {\n",
              "        vertical-align: top;\n",
              "    }\n",
              "\n",
              "    .dataframe thead th {\n",
              "        text-align: right;\n",
              "    }\n",
              "</style>\n",
              "<table border=\"1\" class=\"dataframe\">\n",
              "  <thead>\n",
              "    <tr style=\"text-align: right;\">\n",
              "      <th></th>\n",
              "      <th>verified</th>\n",
              "      <th>reviewTime</th>\n",
              "      <th>reviewerID</th>\n",
              "      <th>asin</th>\n",
              "      <th>reviewText</th>\n",
              "      <th>unixReviewTime</th>\n",
              "    </tr>\n",
              "    <tr>\n",
              "      <th>overall</th>\n",
              "      <th></th>\n",
              "      <th></th>\n",
              "      <th></th>\n",
              "      <th></th>\n",
              "      <th></th>\n",
              "      <th></th>\n",
              "    </tr>\n",
              "  </thead>\n",
              "  <tbody>\n",
              "    <tr>\n",
              "      <th>1.0</th>\n",
              "      <td>118491</td>\n",
              "      <td>118491</td>\n",
              "      <td>118491</td>\n",
              "      <td>118491</td>\n",
              "      <td>118491</td>\n",
              "      <td>118491</td>\n",
              "    </tr>\n",
              "    <tr>\n",
              "      <th>2.0</th>\n",
              "      <td>97843</td>\n",
              "      <td>97843</td>\n",
              "      <td>97843</td>\n",
              "      <td>97843</td>\n",
              "      <td>97843</td>\n",
              "      <td>97843</td>\n",
              "    </tr>\n",
              "    <tr>\n",
              "      <th>3.0</th>\n",
              "      <td>164660</td>\n",
              "      <td>164660</td>\n",
              "      <td>164660</td>\n",
              "      <td>164660</td>\n",
              "      <td>164660</td>\n",
              "      <td>164660</td>\n",
              "    </tr>\n",
              "    <tr>\n",
              "      <th>4.0</th>\n",
              "      <td>266797</td>\n",
              "      <td>266797</td>\n",
              "      <td>266797</td>\n",
              "      <td>266797</td>\n",
              "      <td>266797</td>\n",
              "      <td>266797</td>\n",
              "    </tr>\n",
              "    <tr>\n",
              "      <th>5.0</th>\n",
              "      <td>1280636</td>\n",
              "      <td>1280636</td>\n",
              "      <td>1280636</td>\n",
              "      <td>1280636</td>\n",
              "      <td>1280636</td>\n",
              "      <td>1280636</td>\n",
              "    </tr>\n",
              "  </tbody>\n",
              "</table>\n",
              "</div>\n",
              "      <button class=\"colab-df-convert\" onclick=\"convertToInteractive('df-f66c14ad-12a5-482b-ba96-baf8f04be324')\"\n",
              "              title=\"Convert this dataframe to an interactive table.\"\n",
              "              style=\"display:none;\">\n",
              "        \n",
              "  <svg xmlns=\"http://www.w3.org/2000/svg\" height=\"24px\"viewBox=\"0 0 24 24\"\n",
              "       width=\"24px\">\n",
              "    <path d=\"M0 0h24v24H0V0z\" fill=\"none\"/>\n",
              "    <path d=\"M18.56 5.44l.94 2.06.94-2.06 2.06-.94-2.06-.94-.94-2.06-.94 2.06-2.06.94zm-11 1L8.5 8.5l.94-2.06 2.06-.94-2.06-.94L8.5 2.5l-.94 2.06-2.06.94zm10 10l.94 2.06.94-2.06 2.06-.94-2.06-.94-.94-2.06-.94 2.06-2.06.94z\"/><path d=\"M17.41 7.96l-1.37-1.37c-.4-.4-.92-.59-1.43-.59-.52 0-1.04.2-1.43.59L10.3 9.45l-7.72 7.72c-.78.78-.78 2.05 0 2.83L4 21.41c.39.39.9.59 1.41.59.51 0 1.02-.2 1.41-.59l7.78-7.78 2.81-2.81c.8-.78.8-2.07 0-2.86zM5.41 20L4 18.59l7.72-7.72 1.47 1.35L5.41 20z\"/>\n",
              "  </svg>\n",
              "      </button>\n",
              "      \n",
              "  <style>\n",
              "    .colab-df-container {\n",
              "      display:flex;\n",
              "      flex-wrap:wrap;\n",
              "      gap: 12px;\n",
              "    }\n",
              "\n",
              "    .colab-df-convert {\n",
              "      background-color: #E8F0FE;\n",
              "      border: none;\n",
              "      border-radius: 50%;\n",
              "      cursor: pointer;\n",
              "      display: none;\n",
              "      fill: #1967D2;\n",
              "      height: 32px;\n",
              "      padding: 0 0 0 0;\n",
              "      width: 32px;\n",
              "    }\n",
              "\n",
              "    .colab-df-convert:hover {\n",
              "      background-color: #E2EBFA;\n",
              "      box-shadow: 0px 1px 2px rgba(60, 64, 67, 0.3), 0px 1px 3px 1px rgba(60, 64, 67, 0.15);\n",
              "      fill: #174EA6;\n",
              "    }\n",
              "\n",
              "    [theme=dark] .colab-df-convert {\n",
              "      background-color: #3B4455;\n",
              "      fill: #D2E3FC;\n",
              "    }\n",
              "\n",
              "    [theme=dark] .colab-df-convert:hover {\n",
              "      background-color: #434B5C;\n",
              "      box-shadow: 0px 1px 3px 1px rgba(0, 0, 0, 0.15);\n",
              "      filter: drop-shadow(0px 1px 2px rgba(0, 0, 0, 0.3));\n",
              "      fill: #FFFFFF;\n",
              "    }\n",
              "  </style>\n",
              "\n",
              "      <script>\n",
              "        const buttonEl =\n",
              "          document.querySelector('#df-f66c14ad-12a5-482b-ba96-baf8f04be324 button.colab-df-convert');\n",
              "        buttonEl.style.display =\n",
              "          google.colab.kernel.accessAllowed ? 'block' : 'none';\n",
              "\n",
              "        async function convertToInteractive(key) {\n",
              "          const element = document.querySelector('#df-f66c14ad-12a5-482b-ba96-baf8f04be324');\n",
              "          const dataTable =\n",
              "            await google.colab.kernel.invokeFunction('convertToInteractive',\n",
              "                                                     [key], {});\n",
              "          if (!dataTable) return;\n",
              "\n",
              "          const docLinkHtml = 'Like what you see? Visit the ' +\n",
              "            '<a target=\"_blank\" href=https://colab.research.google.com/notebooks/data_table.ipynb>data table notebook</a>'\n",
              "            + ' to learn more about interactive tables.';\n",
              "          element.innerHTML = '';\n",
              "          dataTable['output_type'] = 'display_data';\n",
              "          await google.colab.output.renderOutput(dataTable, element);\n",
              "          const docLink = document.createElement('div');\n",
              "          docLink.innerHTML = docLinkHtml;\n",
              "          element.appendChild(docLink);\n",
              "        }\n",
              "      </script>\n",
              "    </div>\n",
              "  </div>\n",
              "  "
            ]
          },
          "metadata": {},
          "execution_count": 11
        }
      ],
      "source": [
        "# Checking distribution\n",
        "df_ratings = df_eda.groupby('overall').count()\n",
        "df_ratings"
      ]
    },
    {
      "cell_type": "code",
      "execution_count": null,
      "metadata": {
        "colab": {
          "base_uri": "https://localhost:8080/",
          "height": 295
        },
        "id": "kP_sos_JJ7yg",
        "outputId": "52451909-4222-4a17-dcc4-5027ec4e7b76"
      },
      "outputs": [
        {
          "output_type": "display_data",
          "data": {
            "text/plain": [
              "<Figure size 432x288 with 1 Axes>"
            ],
            "image/png": "[encoded data removed]"
          },
          "metadata": {
            "needs_background": "light"
          }
        }
      ],
      "source": [
        "# Classes (negative, neutral, positive) are not balanced for classification models.\n",
        "plt.bar(df_ratings.index, df_ratings['verified'])\n",
        "plt.title('# Reviews by Rating')\n",
        "plt.xlabel('Rating Score')\n",
        "plt.ylabel('# Reviews')\n",
        "plt.show()"
      ]
    },
    {
      "cell_type": "code",
      "execution_count": null,
      "metadata": {
        "colab": {
          "base_uri": "https://localhost:8080/"
        },
        "id": "flNCjlJ4J_Oo",
        "outputId": "5eb3e88c-8876-48ac-97d3-0cf5d2f5839c"
      },
      "outputs": [
        {
          "output_type": "execute_result",
          "data": {
            "text/plain": [
              "5.0    1280636\n",
              "4.0     266797\n",
              "3.0     164660\n",
              "1.0     118491\n",
              "2.0      97843\n",
              "Name: overall, dtype: int64"
            ]
          },
          "metadata": {},
          "execution_count": 13
        }
      ],
      "source": [
        "df_eda['overall'].value_counts()"
      ]
    },
    {
      "cell_type": "code",
      "execution_count": null,
      "metadata": {
        "id": "dvOu42gdJ_1w"
      },
      "outputs": [],
      "source": [
        "# Set sample size to lower than lowest count in overall scores.\n",
        "sample_size = 25000\n",
        "\n",
        "df = pd.DataFrame()\n",
        "for i in df_eda['overall'].unique():\n",
        "  X = df_eda[df_eda['overall'] == i].sample(sample_size)\n",
        "  df = df.append(X)"
      ]
    },
    {
      "cell_type": "code",
      "execution_count": null,
      "metadata": {
        "colab": {
          "base_uri": "https://localhost:8080/",
          "height": 206
        },
        "id": "1a4wmn-TKEGx",
        "outputId": "77e113cf-56a2-436b-80e8-6586fe4a9f19"
      },
      "outputs": [
        {
          "output_type": "execute_result",
          "data": {
            "text/plain": [
              "         overall  verified      reviewerID        asin  \\\n",
              "707378       3.0      True  A1P6621ULQ0H69  B0013MVJPY   \n",
              "948461       3.0      True  A21TMM8NQOLA79  B00361YH5O   \n",
              "236073       3.0      True  A20DV9ZFNETN6Z  B00062KOTO   \n",
              "212222       3.0      True   A2HF9XEVTZCT5  B0002J1F76   \n",
              "1183219      3.0      True  A10H3V8WYL6MKX  B006JVPUUY   \n",
              "\n",
              "                                                reviewText  unixReviewTime  \\\n",
              "707378   it was pretty good when we first got it but th...      1341619200   \n",
              "948461   My dogs love this toy, but they were able to t...      1395187200   \n",
              "236073   The quality of these kennels has gone down. I'...      1362614400   \n",
              "212222   Bought this product but my animals are still i...      1393459200   \n",
              "1183219  it's very cheaply made and already coming apar...      1361577600   \n",
              "\n",
              "              time  \n",
              "707378  2012-07-07  \n",
              "948461  2014-03-19  \n",
              "236073  2013-03-07  \n",
              "212222  2014-02-27  \n",
              "1183219 2013-02-23  "
            ],
            "text/html": [
              "\n",
              "  <div id=\"df-b7cddade-2bdd-4de0-b59b-4d35dadaa4f0\">\n",
              "    <div class=\"colab-df-container\">\n",
              "      <div>\n",
              "<style scoped>\n",
              "    .dataframe tbody tr th:only-of-type {\n",
              "        vertical-align: middle;\n",
              "    }\n",
              "\n",
              "    .dataframe tbody tr th {\n",
              "        vertical-align: top;\n",
              "    }\n",
              "\n",
              "    .dataframe thead th {\n",
              "        text-align: right;\n",
              "    }\n",
              "</style>\n",
              "<table border=\"1\" class=\"dataframe\">\n",
              "  <thead>\n",
              "    <tr style=\"text-align: right;\">\n",
              "      <th></th>\n",
              "      <th>overall</th>\n",
              "      <th>verified</th>\n",
              "      <th>reviewerID</th>\n",
              "      <th>asin</th>\n",
              "      <th>reviewText</th>\n",
              "      <th>unixReviewTime</th>\n",
              "      <th>time</th>\n",
              "    </tr>\n",
              "  </thead>\n",
              "  <tbody>\n",
              "    <tr>\n",
              "      <th>707378</th>\n",
              "      <td>3.0</td>\n",
              "      <td>True</td>\n",
              "      <td>A1P6621ULQ0H69</td>\n",
              "      <td>B0013MVJPY</td>\n",
              "      <td>it was pretty good when we first got it but th...</td>\n",
              "      <td>1341619200</td>\n",
              "      <td>2012-07-07</td>\n",
              "    </tr>\n",
              "    <tr>\n",
              "      <th>948461</th>\n",
              "      <td>3.0</td>\n",
              "      <td>True</td>\n",
              "      <td>A21TMM8NQOLA79</td>\n",
              "      <td>B00361YH5O</td>\n",
              "      <td>My dogs love this toy, but they were able to t...</td>\n",
              "      <td>1395187200</td>\n",
              "      <td>2014-03-19</td>\n",
              "    </tr>\n",
              "    <tr>\n",
              "      <th>236073</th>\n",
              "      <td>3.0</td>\n",
              "      <td>True</td>\n",
              "      <td>A20DV9ZFNETN6Z</td>\n",
              "      <td>B00062KOTO</td>\n",
              "      <td>The quality of these kennels has gone down. I'...</td>\n",
              "      <td>1362614400</td>\n",
              "      <td>2013-03-07</td>\n",
              "    </tr>\n",
              "    <tr>\n",
              "      <th>212222</th>\n",
              "      <td>3.0</td>\n",
              "      <td>True</td>\n",
              "      <td>A2HF9XEVTZCT5</td>\n",
              "      <td>B0002J1F76</td>\n",
              "      <td>Bought this product but my animals are still i...</td>\n",
              "      <td>1393459200</td>\n",
              "      <td>2014-02-27</td>\n",
              "    </tr>\n",
              "    <tr>\n",
              "      <th>1183219</th>\n",
              "      <td>3.0</td>\n",
              "      <td>True</td>\n",
              "      <td>A10H3V8WYL6MKX</td>\n",
              "      <td>B006JVPUUY</td>\n",
              "      <td>it's very cheaply made and already coming apar...</td>\n",
              "      <td>1361577600</td>\n",
              "      <td>2013-02-23</td>\n",
              "    </tr>\n",
              "  </tbody>\n",
              "</table>\n",
              "</div>\n",
              "      <button class=\"colab-df-convert\" onclick=\"convertToInteractive('df-b7cddade-2bdd-4de0-b59b-4d35dadaa4f0')\"\n",
              "              title=\"Convert this dataframe to an interactive table.\"\n",
              "              style=\"display:none;\">\n",
              "        \n",
              "  <svg xmlns=\"http://www.w3.org/2000/svg\" height=\"24px\"viewBox=\"0 0 24 24\"\n",
              "       width=\"24px\">\n",
              "    <path d=\"M0 0h24v24H0V0z\" fill=\"none\"/>\n",
              "    <path d=\"M18.56 5.44l.94 2.06.94-2.06 2.06-.94-2.06-.94-.94-2.06-.94 2.06-2.06.94zm-11 1L8.5 8.5l.94-2.06 2.06-.94-2.06-.94L8.5 2.5l-.94 2.06-2.06.94zm10 10l.94 2.06.94-2.06 2.06-.94-2.06-.94-.94-2.06-.94 2.06-2.06.94z\"/><path d=\"M17.41 7.96l-1.37-1.37c-.4-.4-.92-.59-1.43-.59-.52 0-1.04.2-1.43.59L10.3 9.45l-7.72 7.72c-.78.78-.78 2.05 0 2.83L4 21.41c.39.39.9.59 1.41.59.51 0 1.02-.2 1.41-.59l7.78-7.78 2.81-2.81c.8-.78.8-2.07 0-2.86zM5.41 20L4 18.59l7.72-7.72 1.47 1.35L5.41 20z\"/>\n",
              "  </svg>\n",
              "      </button>\n",
              "      \n",
              "  <style>\n",
              "    .colab-df-container {\n",
              "      display:flex;\n",
              "      flex-wrap:wrap;\n",
              "      gap: 12px;\n",
              "    }\n",
              "\n",
              "    .colab-df-convert {\n",
              "      background-color: #E8F0FE;\n",
              "      border: none;\n",
              "      border-radius: 50%;\n",
              "      cursor: pointer;\n",
              "      display: none;\n",
              "      fill: #1967D2;\n",
              "      height: 32px;\n",
              "      padding: 0 0 0 0;\n",
              "      width: 32px;\n",
              "    }\n",
              "\n",
              "    .colab-df-convert:hover {\n",
              "      background-color: #E2EBFA;\n",
              "      box-shadow: 0px 1px 2px rgba(60, 64, 67, 0.3), 0px 1px 3px 1px rgba(60, 64, 67, 0.15);\n",
              "      fill: #174EA6;\n",
              "    }\n",
              "\n",
              "    [theme=dark] .colab-df-convert {\n",
              "      background-color: #3B4455;\n",
              "      fill: #D2E3FC;\n",
              "    }\n",
              "\n",
              "    [theme=dark] .colab-df-convert:hover {\n",
              "      background-color: #434B5C;\n",
              "      box-shadow: 0px 1px 3px 1px rgba(0, 0, 0, 0.15);\n",
              "      filter: drop-shadow(0px 1px 2px rgba(0, 0, 0, 0.3));\n",
              "      fill: #FFFFFF;\n",
              "    }\n",
              "  </style>\n",
              "\n",
              "      <script>\n",
              "        const buttonEl =\n",
              "          document.querySelector('#df-b7cddade-2bdd-4de0-b59b-4d35dadaa4f0 button.colab-df-convert');\n",
              "        buttonEl.style.display =\n",
              "          google.colab.kernel.accessAllowed ? 'block' : 'none';\n",
              "\n",
              "        async function convertToInteractive(key) {\n",
              "          const element = document.querySelector('#df-b7cddade-2bdd-4de0-b59b-4d35dadaa4f0');\n",
              "          const dataTable =\n",
              "            await google.colab.kernel.invokeFunction('convertToInteractive',\n",
              "                                                     [key], {});\n",
              "          if (!dataTable) return;\n",
              "\n",
              "          const docLinkHtml = 'Like what you see? Visit the ' +\n",
              "            '<a target=\"_blank\" href=https://colab.research.google.com/notebooks/data_table.ipynb>data table notebook</a>'\n",
              "            + ' to learn more about interactive tables.';\n",
              "          element.innerHTML = '';\n",
              "          dataTable['output_type'] = 'display_data';\n",
              "          await google.colab.output.renderOutput(dataTable, element);\n",
              "          const docLink = document.createElement('div');\n",
              "          docLink.innerHTML = docLinkHtml;\n",
              "          element.appendChild(docLink);\n",
              "        }\n",
              "      </script>\n",
              "    </div>\n",
              "  </div>\n",
              "  "
            ]
          },
          "metadata": {},
          "execution_count": 15
        }
      ],
      "source": [
        "# Create time column using reviewTime data\n",
        "df['time'] = df.reviewTime.str.replace(',', \"\")\n",
        "df['time'] = pd.to_datetime(df['time'], format = '%m %d %Y')\n",
        "\n",
        "# Drop reviewTime column\n",
        "df = df.drop('reviewTime', axis = 1)\n",
        "df.head(5)"
      ]
    },
    {
      "cell_type": "markdown",
      "metadata": {
        "id": "dA2Og5ShKJ5v"
      },
      "source": [
        "# NLP - Machine Learning with Word2Vec"
      ]
    },
    {
      "cell_type": "code",
      "execution_count": null,
      "metadata": {
        "id": "3OcF1br_KPzl"
      },
      "outputs": [],
      "source": [
        "### Helper variables and functions\n",
        "\n",
        "def convert_sentiments(rating):\n",
        "    if rating > 3:\n",
        "        return 2            # Positive = 2\n",
        "    elif rating == 3:\n",
        "        return 1            # Neutral = 1\n",
        "    else: # rating < 3:\n",
        "        return 0           # Negative = 0\n",
        "\n",
        "lemmatizer = WordNetLemmatizer()\n",
        "stops = stopwords.words('english') + [string.punctuation]\n",
        "\n",
        "def preprocess_text(text):\n",
        "  stopwords_en=stopwords.words('english')\n",
        "  lemmatizer=WordNetLemmatizer()\n",
        "  tokenizer=TweetTokenizer()\n",
        "  reconstructed_list=[]\n",
        "  for each_text in text: \n",
        "      lemmatized_tokens=[]\n",
        "      tokens=tokenizer.tokenize(each_text.lower())\n",
        "      pos_tags=pos_tag(tokens)\n",
        "      for each_token, tag in pos_tags: \n",
        "          if tag.startswith('NN'): \n",
        "              pos='n'\n",
        "          elif tag.startswith('VB'): \n",
        "              pos='v'\n",
        "          else: \n",
        "              pos='a'\n",
        "          lemmatized_token=lemmatizer.lemmatize(each_token, pos)\n",
        "          lemmatized_tokens.append(lemmatized_token)\n",
        "      reconstructed_list.append(' '.join(lemmatized_tokens))\n",
        "  return reconstructed_list"
      ]
    },
    {
      "cell_type": "code",
      "execution_count": null,
      "metadata": {
        "id": "tsGTl50KKZN1",
        "colab": {
          "base_uri": "https://localhost:8080/"
        },
        "outputId": "4addc839-f382-4faa-ac91-9dbf1397dde5"
      },
      "outputs": [
        {
          "output_type": "stream",
          "name": "stdout",
          "text": [
            "X_train shape: (100000,)\n",
            "y_train shape: (100000,)\n",
            "X_test shape: (25000,)\n",
            "y_test shape: (25000,)\n"
          ]
        }
      ],
      "source": [
        "df_ml = df.copy()\n",
        "df_ml['sentiments'] = df_ml['overall'].apply(convert_sentiments)\n",
        "\n",
        "# Create train and test data\n",
        "train_df, test_df = train_test_split(df_ml, test_size = 0.2, random_state=42)\n",
        "X_train = train_df['reviewText']\n",
        "y_train = train_df['sentiments']\n",
        "X_test = test_df['reviewText']\n",
        "y_test = test_df['sentiments']\n",
        "print('X_train shape:', X_train.shape)\n",
        "print('y_train shape:', y_train.shape)\n",
        "print('X_test shape:', X_test.shape)\n",
        "print('y_test shape:', y_test.shape)"
      ]
    },
    {
      "cell_type": "code",
      "source": [
        "X_train=preprocess_text(X_train)\n",
        "X_test=preprocess_text(X_test)\n",
        "\n",
        "# Copies for reset point reference purposes, as preprocessing takes a long time\n",
        "X_train1 = X_train\n",
        "X_test1 = X_test"
      ],
      "metadata": {
        "id": "KEhZAKg7Hlg5"
      },
      "execution_count": null,
      "outputs": []
    },
    {
      "cell_type": "code",
      "source": [
        "# Tokenize\n",
        "tokenizer = Tokenizer()\n",
        "tokenizer.fit_on_texts(X_train1)\n",
        "\n",
        "# For later as model parameter\n",
        "vocab_size=len(tokenizer.word_index)+1\n",
        "max_len = max([len(sentence.split()) for sentence in df_ml['reviewText']])\n",
        "\n",
        "# -> Sequences + Padding\n",
        "X_train=pad_sequences(tokenizer.texts_to_sequences(X_train1), maxlen=max_len)\n",
        "X_test=pad_sequences(tokenizer.texts_to_sequences(X_test1), maxlen=max_len)\n"
      ],
      "metadata": {
        "id": "nvwpU_PfNXb0"
      },
      "execution_count": null,
      "outputs": []
    },
    {
      "cell_type": "code",
      "source": [
        "# Categorizing data for the keras model later\n",
        "y_train1=to_categorical(y_train)\n",
        "y_test1=to_categorical(y_test)"
      ],
      "metadata": {
        "id": "Erj-E8MTP1Nn"
      },
      "execution_count": null,
      "outputs": []
    },
    {
      "cell_type": "markdown",
      "metadata": {
        "id": "0ccM2aZVK0Lq"
      },
      "source": [
        "# Create Word2Vec Model"
      ]
    },
    {
      "cell_type": "code",
      "source": [
        "clean_text = []\n",
        "reviewText = df_ml['reviewText'].values.tolist()\n",
        "\n",
        "for l in reviewText:\n",
        "  # Tokenize\n",
        "  tokens = nltk.word_tokenize(l)\n",
        "  # Remove stop words + punctuation\n",
        "  clean_tokens = [token.lower() for token in tokens if token.lower() not in stops]\n",
        "  clean_tokens = [token for token in clean_tokens if token.isalpha()]\n",
        "  clean_text.append(clean_tokens)\n"
      ],
      "metadata": {
        "id": "fT02KsL_LpDA"
      },
      "execution_count": null,
      "outputs": []
    },
    {
      "cell_type": "code",
      "execution_count": null,
      "metadata": {
        "id": "kPmHqM8dK3Df"
      },
      "outputs": [],
      "source": [
        "# Size of vectors\n",
        "EMBED_DIM = 100\n",
        "\n",
        "w2v_model = Word2Vec(sentences=clean_text, size=EMBED_DIM, seed=42, window=5, workers=5, min_count=1)"
      ]
    },
    {
      "cell_type": "code",
      "source": [
        "# Create embedding matrix with word index\n",
        "word_index = tokenizer.word_index\n",
        "embedding_matrix = np.zeros((len(word_index) + 5, EMBED_DIM))\n",
        "\n",
        "for word, i in word_index.items():\n",
        "  if i < (len(word_index) + 5):\n",
        "    embedding_vector = w2v_model.wv[word]\n",
        "    if embedding_vector is not None:\n",
        "      embedding_matrix[i] = embedding_vector"
      ],
      "metadata": {
        "id": "r__d5KWUSYsS"
      },
      "execution_count": null,
      "outputs": []
    },
    {
      "cell_type": "markdown",
      "source": [
        "Train on sequential model that is woefully untuned and contains several bad choices like using a sigmoid function, which is for binary classification unlike our case in which our sentiments have 3 values - positive, neutral, and negative. "
      ],
      "metadata": {
        "id": "oskO-22Sr1bE"
      }
    },
    {
      "cell_type": "code",
      "source": [
        "model = Sequential()\n",
        "embedding_layer = Embedding(embeddings.shape[0], embeddings.shape[1], weights=[embeddings], input_length=length_long_sentence, trainable=False)\n",
        "model.add(embedding_layer)\n",
        "model.add(Flatten())\n",
        "model.add(Dense(1, activation='sigmoid'))\n",
        "\n",
        "model.compile(loss='binary_crossentropy', optimizer='adam', metrics=['accuracy'])\n",
        "\n",
        "model.summary()"
      ],
      "metadata": {
        "id": "b_joRuOmqDwa"
      },
      "execution_count": null,
      "outputs": []
    },
    {
      "cell_type": "code",
      "source": [
        "y_train2 = np.asarray(y_train).astype('float32').reshape((-1,1))\n",
        "y_test2 = np.asarray(y_test).astype('float32').reshape((-1,1))\n",
        "\n",
        "model.fit(X_train, y_train2, epochs=5)\n",
        "\n",
        "y_pred_test=model.predict(X_test)\n",
        "y_pred_test = (y_pred_test>.5)*1\n",
        "print(accuracy_score(y_test2,y_pred_test))"
      ],
      "metadata": {
        "id": "eVKIuIPssSRV"
      },
      "execution_count": null,
      "outputs": []
    },
    {
      "cell_type": "markdown",
      "source": [
        "# Build Embedding Layer Model"
      ],
      "metadata": {
        "id": "zKpFWKL_T0z9"
      }
    },
    {
      "cell_type": "markdown",
      "source": [
        "Since we have 3 classes, 'softmax' is chosen as the activation function and the Dense output layer is adjusted to have dimension of x, 2 (x being the length of the y data fed in). My understanding is Bidirectional LTSM looks at both path and future context and could provide more insightful data."
      ],
      "metadata": {
        "id": "bCP39cW7tUmP"
      }
    },
    {
      "cell_type": "code",
      "source": [
        "model = Sequential()\n",
        "model.add(Embedding(input_dim=vocab_size, output_dim=100, input_length=max_len))\n",
        "model.add(Bidirectional(LSTM(128)))\n",
        "model.add(Dense(2, activation='softmax'))\n",
        "\n",
        "model.compile(optimizer='adam', loss='categorical_crossentropy', metrics=['accuracy'])\n",
        "\n",
        "model.summary()"
      ],
      "metadata": {
        "colab": {
          "base_uri": "https://localhost:8080/"
        },
        "id": "30Dn5Wr5T0jY",
        "outputId": "ba71cab1-5e59-4979-9e0f-616dedac48ad"
      },
      "execution_count": null,
      "outputs": [
        {
          "output_type": "stream",
          "name": "stdout",
          "text": [
            "Model: \"sequential\"\n",
            "_________________________________________________________________\n",
            " Layer (type)                Output Shape              Param #   \n",
            "=================================================================\n",
            " embedding (Embedding)       (None, 2209, 100)         3477900   \n",
            "                                                                 \n",
            " bidirectional (Bidirectiona  (None, 256)              234496    \n",
            " l)                                                              \n",
            "                                                                 \n",
            " dense (Dense)               (None, 5)                 1285      \n",
            "                                                                 \n",
            "=================================================================\n",
            "Total params: 3,713,681\n",
            "Trainable params: 3,713,681\n",
            "Non-trainable params: 0\n",
            "_________________________________________________________________\n"
          ]
        }
      ]
    },
    {
      "cell_type": "code",
      "source": [
        "history = model.fit(X_train, y_train1, batch_size=250, epochs=20, validation_split=0.2)"
      ],
      "metadata": {
        "colab": {
          "base_uri": "https://localhost:8080/"
        },
        "id": "g_mR70Z6V0KF",
        "outputId": "e364549e-77fe-49a8-e48a-fe367e9eb8fa"
      },
      "execution_count": null,
      "outputs": [
        {
          "output_type": "stream",
          "name": "stdout",
          "text": [
            "Epoch 1/20\n",
            "400/400 [==============================] - 184s 433ms/step - loss: 1.2835 - accuracy: 0.4315 - val_loss: 1.1564 - val_accuracy: 0.4977\n",
            "Epoch 2/20\n",
            "400/400 [==============================] - 172s 429ms/step - loss: 1.1047 - accuracy: 0.5215 - val_loss: 1.1250 - val_accuracy: 0.5114\n",
            "Epoch 3/20\n",
            "400/400 [==============================] - 173s 433ms/step - loss: 1.0362 - accuracy: 0.5557 - val_loss: 1.1276 - val_accuracy: 0.5114\n",
            "Epoch 4/20\n",
            "400/400 [==============================] - 176s 441ms/step - loss: 0.9743 - accuracy: 0.5874 - val_loss: 1.1365 - val_accuracy: 0.5106\n",
            "Epoch 5/20\n",
            "400/400 [==============================] - 171s 427ms/step - loss: 0.9142 - accuracy: 0.6178 - val_loss: 1.1594 - val_accuracy: 0.5120\n",
            "Epoch 6/20\n",
            "400/400 [==============================] - 176s 441ms/step - loss: 0.8594 - accuracy: 0.6459 - val_loss: 1.2017 - val_accuracy: 0.5037\n",
            "Epoch 7/20\n",
            "400/400 [==============================] - 171s 427ms/step - loss: 0.7988 - accuracy: 0.6741 - val_loss: 1.2569 - val_accuracy: 0.4995\n",
            "Epoch 8/20\n",
            "400/400 [==============================] - 187s 466ms/step - loss: 0.7438 - accuracy: 0.6993 - val_loss: 1.3234 - val_accuracy: 0.4927\n",
            "Epoch 9/20\n",
            "400/400 [==============================] - 177s 441ms/step - loss: 0.6963 - accuracy: 0.7193 - val_loss: 1.3562 - val_accuracy: 0.4939\n",
            "Epoch 10/20\n",
            "400/400 [==============================] - 177s 443ms/step - loss: 0.6473 - accuracy: 0.7395 - val_loss: 1.4118 - val_accuracy: 0.4912\n",
            "Epoch 11/20\n",
            "400/400 [==============================] - 175s 439ms/step - loss: 0.6189 - accuracy: 0.7522 - val_loss: 1.4665 - val_accuracy: 0.4868\n",
            "Epoch 12/20\n",
            "400/400 [==============================] - 175s 439ms/step - loss: 0.6026 - accuracy: 0.7587 - val_loss: 1.5751 - val_accuracy: 0.4938\n",
            "Epoch 13/20\n",
            "400/400 [==============================] - 170s 425ms/step - loss: 0.5486 - accuracy: 0.7804 - val_loss: 1.6286 - val_accuracy: 0.4898\n",
            "Epoch 14/20\n",
            "400/400 [==============================] - 187s 467ms/step - loss: 0.5202 - accuracy: 0.7920 - val_loss: 1.6618 - val_accuracy: 0.4824\n",
            "Epoch 15/20\n",
            "400/400 [==============================] - 182s 454ms/step - loss: 0.4938 - accuracy: 0.8034 - val_loss: 1.7622 - val_accuracy: 0.4891\n",
            "Epoch 16/20\n",
            "400/400 [==============================] - 179s 448ms/step - loss: 0.4751 - accuracy: 0.8113 - val_loss: 1.8894 - val_accuracy: 0.4869\n",
            "Epoch 17/20\n",
            "400/400 [==============================] - 178s 446ms/step - loss: 0.4498 - accuracy: 0.8203 - val_loss: 1.8927 - val_accuracy: 0.4816\n",
            "Epoch 18/20\n",
            "400/400 [==============================] - 177s 443ms/step - loss: 0.4267 - accuracy: 0.8306 - val_loss: 2.0386 - val_accuracy: 0.4733\n",
            "Epoch 19/20\n",
            "400/400 [==============================] - 178s 444ms/step - loss: 0.4120 - accuracy: 0.8369 - val_loss: 2.0996 - val_accuracy: 0.4833\n",
            "Epoch 20/20\n",
            "400/400 [==============================] - 173s 432ms/step - loss: 0.3871 - accuracy: 0.8468 - val_loss: 2.1384 - val_accuracy: 0.4796\n"
          ]
        }
      ]
    },
    {
      "cell_type": "code",
      "source": [
        "# Reference credit: https://chrisalbon.com/code/deep_learning/keras/visualize_loss_history/ \n",
        "\n",
        "# Get training and test loss histories\n",
        "training_loss = history.history['loss']\n",
        "test_loss = history.history['val_loss']\n",
        "\n",
        "# Create count of the number of epochs\n",
        "epoch_count = range(1, len(training_loss) + 1)\n",
        "\n",
        "# Visualize loss history\n",
        "plt.plot(epoch_count, training_loss, 'r--')\n",
        "plt.plot(epoch_count, test_loss, 'b-')\n",
        "plt.legend(['Training Loss', 'Test Loss'])\n",
        "plt.xlabel('Epoch')\n",
        "plt.ylabel('Loss')\n",
        "plt.show();"
      ],
      "metadata": {
        "colab": {
          "base_uri": "https://localhost:8080/",
          "height": 279
        },
        "id": "e1E6uanVcwYj",
        "outputId": "e71af968-19f4-492a-ea22-e3a850e9d90a"
      },
      "execution_count": null,
      "outputs": [
        {
          "output_type": "display_data",
          "data": {
            "text/plain": [
              "<Figure size 432x288 with 1 Axes>"
            ],
            "image/png": "[encoded data removed]"
          },
          "metadata": {
            "needs_background": "light"
          }
        }
      ]
    },
    {
      "cell_type": "code",
      "source": [
        "# Attach back to time \n",
        "y_pred = model.predict(X_test)"
      ],
      "metadata": {
        "colab": {
          "base_uri": "https://localhost:8080/",
          "height": 358
        },
        "id": "l9w8i3Ql6K-Z",
        "outputId": "33ea34d6-221c-4f0c-ae77-c48567c1e04b"
      },
      "execution_count": null,
      "outputs": [
        {
          "output_type": "stream",
          "name": "stdout",
          "text": [
            "782/782 [==============================] - 63s 80ms/step\n"
          ]
        },
        {
          "output_type": "error",
          "ename": "TypeError",
          "evalue": "ignored",
          "traceback": [
            "\u001b[0;31m---------------------------------------------------------------------------\u001b[0m",
            "\u001b[0;31mTypeError\u001b[0m                                 Traceback (most recent call last)",
            "\u001b[0;32m<ipython-input-34-b1e1e68787c6>\u001b[0m in \u001b[0;36m<module>\u001b[0;34m\u001b[0m\n\u001b[1;32m      3\u001b[0m \u001b[0;34m\u001b[0m\u001b[0m\n\u001b[1;32m      4\u001b[0m \u001b[0mtime_test_df\u001b[0m \u001b[0;34m=\u001b[0m \u001b[0mtest_df\u001b[0m\u001b[0;34m.\u001b[0m\u001b[0mcopy\u001b[0m\u001b[0;34m(\u001b[0m\u001b[0;34m)\u001b[0m\u001b[0;34m\u001b[0m\u001b[0;34m\u001b[0m\u001b[0m\n\u001b[0;32m----> 5\u001b[0;31m \u001b[0mtime_test_df\u001b[0m\u001b[0;34m[\u001b[0m\u001b[0;34m'predictions'\u001b[0m\u001b[0;34m]\u001b[0m \u001b[0;34m=\u001b[0m \u001b[0;34m[\u001b[0m\u001b[0mnp\u001b[0m\u001b[0;34m.\u001b[0m\u001b[0mmean\u001b[0m\u001b[0;34m(\u001b[0m\u001b[0;34m)\u001b[0m\u001b[0;34m(\u001b[0m\u001b[0mlst\u001b[0m\u001b[0;34m)\u001b[0m \u001b[0;32mfor\u001b[0m \u001b[0mlst\u001b[0m \u001b[0;32min\u001b[0m \u001b[0my_pred\u001b[0m\u001b[0;34m]\u001b[0m\u001b[0;34m\u001b[0m\u001b[0;34m\u001b[0m\u001b[0m\n\u001b[0m",
            "\u001b[0;32m<ipython-input-34-b1e1e68787c6>\u001b[0m in \u001b[0;36m<listcomp>\u001b[0;34m(.0)\u001b[0m\n\u001b[1;32m      3\u001b[0m \u001b[0;34m\u001b[0m\u001b[0m\n\u001b[1;32m      4\u001b[0m \u001b[0mtime_test_df\u001b[0m \u001b[0;34m=\u001b[0m \u001b[0mtest_df\u001b[0m\u001b[0;34m.\u001b[0m\u001b[0mcopy\u001b[0m\u001b[0;34m(\u001b[0m\u001b[0;34m)\u001b[0m\u001b[0;34m\u001b[0m\u001b[0;34m\u001b[0m\u001b[0m\n\u001b[0;32m----> 5\u001b[0;31m \u001b[0mtime_test_df\u001b[0m\u001b[0;34m[\u001b[0m\u001b[0;34m'predictions'\u001b[0m\u001b[0;34m]\u001b[0m \u001b[0;34m=\u001b[0m \u001b[0;34m[\u001b[0m\u001b[0mnp\u001b[0m\u001b[0;34m.\u001b[0m\u001b[0mmean\u001b[0m\u001b[0;34m(\u001b[0m\u001b[0;34m)\u001b[0m\u001b[0;34m(\u001b[0m\u001b[0mlst\u001b[0m\u001b[0;34m)\u001b[0m \u001b[0;32mfor\u001b[0m \u001b[0mlst\u001b[0m \u001b[0;32min\u001b[0m \u001b[0my_pred\u001b[0m\u001b[0;34m]\u001b[0m\u001b[0;34m\u001b[0m\u001b[0;34m\u001b[0m\u001b[0m\n\u001b[0m",
            "\u001b[0;32m<__array_function__ internals>\u001b[0m in \u001b[0;36mmean\u001b[0;34m(*args, **kwargs)\u001b[0m\n",
            "\u001b[0;31mTypeError\u001b[0m: _mean_dispatcher() missing 1 required positional argument: 'a'"
          ]
        }
      ]
    },
    {
      "cell_type": "markdown",
      "source": [
        "# Visualize results - Scrapped; \n",
        "It's likely recommended to try fixing the overfitting problem first than analyze inaccurate data. However, there may not be enough time to resolve the issue as each fitting is taking (on my laptop) a minimum of 5 hours to run."
      ],
      "metadata": {
        "id": "uGpauz2IP-QW"
      }
    },
    {
      "cell_type": "code",
      "source": [
        "time_test_df = test_df.copy()\n",
        "time_test_df['predictions'] = [np.mean(lst) for lst in y_pred]"
      ],
      "metadata": {
        "id": "Q35JBFtaMjGz"
      },
      "execution_count": null,
      "outputs": []
    },
    {
      "cell_type": "markdown",
      "source": [
        "I want to look for any observable patterns of sentiment over time for products. However, our dataset is quite large, so maybe we can look at the products that are most/least reviewed and most/least liked."
      ],
      "metadata": {
        "id": "Gtl-cQ-USAn1"
      }
    },
    {
      "cell_type": "code",
      "source": [
        "# Create df grouped by 'asin' to find which producst are most and least reviewed\n",
        "asin_df = time_test_df.groupby('asin').count()\n",
        "\n",
        "# Choose top 5 products\n",
        "top_5 = asin_df.sort_values('overall', ascending=False).index[:5]\n",
        "\n",
        "# Choose bottom 5 products\n",
        "bot_5 = asin_df.sort_values('overall', ascending=True).index[:5]"
      ],
      "metadata": {
        "id": "QPickzKBJbEC"
      },
      "execution_count": null,
      "outputs": []
    },
    {
      "cell_type": "code",
      "source": [
        "plt_test_df = time_test_df.groupby('asin').agg({'predictions':lambda x: list(x)})\n",
        "plt_test_df['date'] = time_test_df.groupby('asin').agg({'time':lambda x: list(x)})['time'].values\n",
        "plt_test_df = plt_test_df.reset_index()"
      ],
      "metadata": {
        "colab": {
          "base_uri": "https://localhost:8080/",
          "height": 423
        },
        "id": "rMhUG7mxNmjY",
        "outputId": "5ef1aaa1-89ed-4227-cb3d-a24d0a086d48"
      },
      "execution_count": null,
      "outputs": [
        {
          "output_type": "execute_result",
          "data": {
            "text/plain": [
              "             asin                                        predictions  \\\n",
              "0      6041026433                              [0.19999997317790985]   \n",
              "1      6162622851  [0.19999998807907104, 0.20000000298023224, 0.2...   \n",
              "2      9822497938                              [0.20000000298023224]   \n",
              "3      9828377403                              [0.20000000298023224]   \n",
              "4      B00004T2WR                              [0.19999998807907104]   \n",
              "...           ...                                                ...   \n",
              "11077  B01HHUAUBO                              [0.20000000298023224]   \n",
              "11078  B01HI8IJ04                              [0.19999997317790985]   \n",
              "11079  B01HI8UQ5K                              [0.20000000298023224]   \n",
              "11080  B01HI97HAG                              [0.19999998807907104]   \n",
              "11081  B01HIJGHOS                              [0.20000000298023224]   \n",
              "\n",
              "                                                    date  \n",
              "0                                  [2016-10-27 00:00:00]  \n",
              "1      [2018-02-16 00:00:00, 2017-12-15 00:00:00, 201...  \n",
              "2                                  [2016-06-05 00:00:00]  \n",
              "3                                  [2016-03-18 00:00:00]  \n",
              "4                                  [2016-06-16 00:00:00]  \n",
              "...                                                  ...  \n",
              "11077                              [2017-09-04 00:00:00]  \n",
              "11078                              [2017-01-25 00:00:00]  \n",
              "11079                              [2017-03-14 00:00:00]  \n",
              "11080                              [2018-04-18 00:00:00]  \n",
              "11081                              [2016-12-01 00:00:00]  \n",
              "\n",
              "[11082 rows x 3 columns]"
            ],
            "text/html": [
              "\n",
              "  <div id=\"df-3d88d13e-6dde-4bbe-b8fe-87d9d86dabaa\">\n",
              "    <div class=\"colab-df-container\">\n",
              "      <div>\n",
              "<style scoped>\n",
              "    .dataframe tbody tr th:only-of-type {\n",
              "        vertical-align: middle;\n",
              "    }\n",
              "\n",
              "    .dataframe tbody tr th {\n",
              "        vertical-align: top;\n",
              "    }\n",
              "\n",
              "    .dataframe thead th {\n",
              "        text-align: right;\n",
              "    }\n",
              "</style>\n",
              "<table border=\"1\" class=\"dataframe\">\n",
              "  <thead>\n",
              "    <tr style=\"text-align: right;\">\n",
              "      <th></th>\n",
              "      <th>asin</th>\n",
              "      <th>predictions</th>\n",
              "      <th>date</th>\n",
              "    </tr>\n",
              "  </thead>\n",
              "  <tbody>\n",
              "    <tr>\n",
              "      <th>0</th>\n",
              "      <td>6041026433</td>\n",
              "      <td>[0.19999997317790985]</td>\n",
              "      <td>[2016-10-27 00:00:00]</td>\n",
              "    </tr>\n",
              "    <tr>\n",
              "      <th>1</th>\n",
              "      <td>6162622851</td>\n",
              "      <td>[0.19999998807907104, 0.20000000298023224, 0.2...</td>\n",
              "      <td>[2018-02-16 00:00:00, 2017-12-15 00:00:00, 201...</td>\n",
              "    </tr>\n",
              "    <tr>\n",
              "      <th>2</th>\n",
              "      <td>9822497938</td>\n",
              "      <td>[0.20000000298023224]</td>\n",
              "      <td>[2016-06-05 00:00:00]</td>\n",
              "    </tr>\n",
              "    <tr>\n",
              "      <th>3</th>\n",
              "      <td>9828377403</td>\n",
              "      <td>[0.20000000298023224]</td>\n",
              "      <td>[2016-03-18 00:00:00]</td>\n",
              "    </tr>\n",
              "    <tr>\n",
              "      <th>4</th>\n",
              "      <td>B00004T2WR</td>\n",
              "      <td>[0.19999998807907104]</td>\n",
              "      <td>[2016-06-16 00:00:00]</td>\n",
              "    </tr>\n",
              "    <tr>\n",
              "      <th>...</th>\n",
              "      <td>...</td>\n",
              "      <td>...</td>\n",
              "      <td>...</td>\n",
              "    </tr>\n",
              "    <tr>\n",
              "      <th>11077</th>\n",
              "      <td>B01HHUAUBO</td>\n",
              "      <td>[0.20000000298023224]</td>\n",
              "      <td>[2017-09-04 00:00:00]</td>\n",
              "    </tr>\n",
              "    <tr>\n",
              "      <th>11078</th>\n",
              "      <td>B01HI8IJ04</td>\n",
              "      <td>[0.19999997317790985]</td>\n",
              "      <td>[2017-01-25 00:00:00]</td>\n",
              "    </tr>\n",
              "    <tr>\n",
              "      <th>11079</th>\n",
              "      <td>B01HI8UQ5K</td>\n",
              "      <td>[0.20000000298023224]</td>\n",
              "      <td>[2017-03-14 00:00:00]</td>\n",
              "    </tr>\n",
              "    <tr>\n",
              "      <th>11080</th>\n",
              "      <td>B01HI97HAG</td>\n",
              "      <td>[0.19999998807907104]</td>\n",
              "      <td>[2018-04-18 00:00:00]</td>\n",
              "    </tr>\n",
              "    <tr>\n",
              "      <th>11081</th>\n",
              "      <td>B01HIJGHOS</td>\n",
              "      <td>[0.20000000298023224]</td>\n",
              "      <td>[2016-12-01 00:00:00]</td>\n",
              "    </tr>\n",
              "  </tbody>\n",
              "</table>\n",
              "<p>11082 rows × 3 columns</p>\n",
              "</div>\n",
              "      <button class=\"colab-df-convert\" onclick=\"convertToInteractive('df-3d88d13e-6dde-4bbe-b8fe-87d9d86dabaa')\"\n",
              "              title=\"Convert this dataframe to an interactive table.\"\n",
              "              style=\"display:none;\">\n",
              "        \n",
              "  <svg xmlns=\"http://www.w3.org/2000/svg\" height=\"24px\"viewBox=\"0 0 24 24\"\n",
              "       width=\"24px\">\n",
              "    <path d=\"M0 0h24v24H0V0z\" fill=\"none\"/>\n",
              "    <path d=\"M18.56 5.44l.94 2.06.94-2.06 2.06-.94-2.06-.94-.94-2.06-.94 2.06-2.06.94zm-11 1L8.5 8.5l.94-2.06 2.06-.94-2.06-.94L8.5 2.5l-.94 2.06-2.06.94zm10 10l.94 2.06.94-2.06 2.06-.94-2.06-.94-.94-2.06-.94 2.06-2.06.94z\"/><path d=\"M17.41 7.96l-1.37-1.37c-.4-.4-.92-.59-1.43-.59-.52 0-1.04.2-1.43.59L10.3 9.45l-7.72 7.72c-.78.78-.78 2.05 0 2.83L4 21.41c.39.39.9.59 1.41.59.51 0 1.02-.2 1.41-.59l7.78-7.78 2.81-2.81c.8-.78.8-2.07 0-2.86zM5.41 20L4 18.59l7.72-7.72 1.47 1.35L5.41 20z\"/>\n",
              "  </svg>\n",
              "      </button>\n",
              "      \n",
              "  <style>\n",
              "    .colab-df-container {\n",
              "      display:flex;\n",
              "      flex-wrap:wrap;\n",
              "      gap: 12px;\n",
              "    }\n",
              "\n",
              "    .colab-df-convert {\n",
              "      background-color: #E8F0FE;\n",
              "      border: none;\n",
              "      border-radius: 50%;\n",
              "      cursor: pointer;\n",
              "      display: none;\n",
              "      fill: #1967D2;\n",
              "      height: 32px;\n",
              "      padding: 0 0 0 0;\n",
              "      width: 32px;\n",
              "    }\n",
              "\n",
              "    .colab-df-convert:hover {\n",
              "      background-color: #E2EBFA;\n",
              "      box-shadow: 0px 1px 2px rgba(60, 64, 67, 0.3), 0px 1px 3px 1px rgba(60, 64, 67, 0.15);\n",
              "      fill: #174EA6;\n",
              "    }\n",
              "\n",
              "    [theme=dark] .colab-df-convert {\n",
              "      background-color: #3B4455;\n",
              "      fill: #D2E3FC;\n",
              "    }\n",
              "\n",
              "    [theme=dark] .colab-df-convert:hover {\n",
              "      background-color: #434B5C;\n",
              "      box-shadow: 0px 1px 3px 1px rgba(0, 0, 0, 0.15);\n",
              "      filter: drop-shadow(0px 1px 2px rgba(0, 0, 0, 0.3));\n",
              "      fill: #FFFFFF;\n",
              "    }\n",
              "  </style>\n",
              "\n",
              "      <script>\n",
              "        const buttonEl =\n",
              "          document.querySelector('#df-3d88d13e-6dde-4bbe-b8fe-87d9d86dabaa button.colab-df-convert');\n",
              "        buttonEl.style.display =\n",
              "          google.colab.kernel.accessAllowed ? 'block' : 'none';\n",
              "\n",
              "        async function convertToInteractive(key) {\n",
              "          const element = document.querySelector('#df-3d88d13e-6dde-4bbe-b8fe-87d9d86dabaa');\n",
              "          const dataTable =\n",
              "            await google.colab.kernel.invokeFunction('convertToInteractive',\n",
              "                                                     [key], {});\n",
              "          if (!dataTable) return;\n",
              "\n",
              "          const docLinkHtml = 'Like what you see? Visit the ' +\n",
              "            '<a target=\"_blank\" href=https://colab.research.google.com/notebooks/data_table.ipynb>data table notebook</a>'\n",
              "            + ' to learn more about interactive tables.';\n",
              "          element.innerHTML = '';\n",
              "          dataTable['output_type'] = 'display_data';\n",
              "          await google.colab.output.renderOutput(dataTable, element);\n",
              "          const docLink = document.createElement('div');\n",
              "          docLink.innerHTML = docLinkHtml;\n",
              "          element.appendChild(docLink);\n",
              "        }\n",
              "      </script>\n",
              "    </div>\n",
              "  </div>\n",
              "  "
            ]
          },
          "metadata": {},
          "execution_count": 82
        }
      ]
    },
    {
      "cell_type": "code",
      "source": [
        "# Plot helper function \n",
        "colors = ['r', 'b', 'm', 'g', 'y']\n",
        "\n",
        "def color_dict(asins):\n",
        "  c_dict = {}\n",
        "  i = 0\n",
        "  for a in asins:\n",
        "    c_dict[a] = colors[i]\n",
        "    i += 1\n",
        "  return c_dict\n"
      ],
      "metadata": {
        "id": "is-R7YmlT8YK"
      },
      "execution_count": null,
      "outputs": []
    },
    {
      "cell_type": "code",
      "source": [
        "mini_1 = plt_test_df.loc[plt_test_df['asin'].isin(top_5)]\n",
        "mini_1 = mini_1.explode(['predictions', 'date']).reset_index(drop=True)\n",
        "mini_1['year'] = pd.DatetimeIndex(mini_1['date']).year\n",
        "mini_1 = mini_1.drop(['date'], axis=1)\n",
        "\n",
        "fig, ax = plt.subplots()\n",
        "color_top5 = color_dict(top_5)\n",
        "for key, grp in mini_1.groupby(['asin']):\n",
        "    ax = grp.plot(ax=ax, kind='dot', x='year', y='predictions', c=color_top5[key], label=key)\n",
        "\n",
        "plt.legend(loc='best')\n",
        "plt.show()"
      ],
      "metadata": {
        "colab": {
          "base_uri": "https://localhost:8080/",
          "height": 423
        },
        "id": "ZDh3RdwxRWNy",
        "outputId": "6382a6c4-ddc3-41d3-c421-baa7319c6dc2"
      },
      "execution_count": null,
      "outputs": [
        {
          "output_type": "execute_result",
          "data": {
            "text/plain": [
              "           asin predictions  year\n",
              "0    B000W5QSYA         0.2  2017\n",
              "1    B000W5QSYA         0.2  2014\n",
              "2    B000W5QSYA         0.2  2014\n",
              "3    B000W5QSYA         0.2  2017\n",
              "4    B000W5QSYA         0.2  2017\n",
              "..          ...         ...   ...\n",
              "623  B001A5IXRG         0.2  2016\n",
              "624  B001A5IXRG         0.2  2014\n",
              "625  B001A5IXRG         0.2  2017\n",
              "626  B001A5IXRG         0.2  2015\n",
              "627  B001A5IXRG         0.2  2013\n",
              "\n",
              "[628 rows x 3 columns]"
            ],
            "text/html": [
              "\n",
              "  <div id=\"df-012906a1-ff99-48c6-ac21-71930c6fa94e\">\n",
              "    <div class=\"colab-df-container\">\n",
              "      <div>\n",
              "<style scoped>\n",
              "    .dataframe tbody tr th:only-of-type {\n",
              "        vertical-align: middle;\n",
              "    }\n",
              "\n",
              "    .dataframe tbody tr th {\n",
              "        vertical-align: top;\n",
              "    }\n",
              "\n",
              "    .dataframe thead th {\n",
              "        text-align: right;\n",
              "    }\n",
              "</style>\n",
              "<table border=\"1\" class=\"dataframe\">\n",
              "  <thead>\n",
              "    <tr style=\"text-align: right;\">\n",
              "      <th></th>\n",
              "      <th>asin</th>\n",
              "      <th>predictions</th>\n",
              "      <th>year</th>\n",
              "    </tr>\n",
              "  </thead>\n",
              "  <tbody>\n",
              "    <tr>\n",
              "      <th>0</th>\n",
              "      <td>B000W5QSYA</td>\n",
              "      <td>0.2</td>\n",
              "      <td>2017</td>\n",
              "    </tr>\n",
              "    <tr>\n",
              "      <th>1</th>\n",
              "      <td>B000W5QSYA</td>\n",
              "      <td>0.2</td>\n",
              "      <td>2014</td>\n",
              "    </tr>\n",
              "    <tr>\n",
              "      <th>2</th>\n",
              "      <td>B000W5QSYA</td>\n",
              "      <td>0.2</td>\n",
              "      <td>2014</td>\n",
              "    </tr>\n",
              "    <tr>\n",
              "      <th>3</th>\n",
              "      <td>B000W5QSYA</td>\n",
              "      <td>0.2</td>\n",
              "      <td>2017</td>\n",
              "    </tr>\n",
              "    <tr>\n",
              "      <th>4</th>\n",
              "      <td>B000W5QSYA</td>\n",
              "      <td>0.2</td>\n",
              "      <td>2017</td>\n",
              "    </tr>\n",
              "    <tr>\n",
              "      <th>...</th>\n",
              "      <td>...</td>\n",
              "      <td>...</td>\n",
              "      <td>...</td>\n",
              "    </tr>\n",
              "    <tr>\n",
              "      <th>623</th>\n",
              "      <td>B001A5IXRG</td>\n",
              "      <td>0.2</td>\n",
              "      <td>2016</td>\n",
              "    </tr>\n",
              "    <tr>\n",
              "      <th>624</th>\n",
              "      <td>B001A5IXRG</td>\n",
              "      <td>0.2</td>\n",
              "      <td>2014</td>\n",
              "    </tr>\n",
              "    <tr>\n",
              "      <th>625</th>\n",
              "      <td>B001A5IXRG</td>\n",
              "      <td>0.2</td>\n",
              "      <td>2017</td>\n",
              "    </tr>\n",
              "    <tr>\n",
              "      <th>626</th>\n",
              "      <td>B001A5IXRG</td>\n",
              "      <td>0.2</td>\n",
              "      <td>2015</td>\n",
              "    </tr>\n",
              "    <tr>\n",
              "      <th>627</th>\n",
              "      <td>B001A5IXRG</td>\n",
              "      <td>0.2</td>\n",
              "      <td>2013</td>\n",
              "    </tr>\n",
              "  </tbody>\n",
              "</table>\n",
              "<p>628 rows × 3 columns</p>\n",
              "</div>\n",
              "      <button class=\"colab-df-convert\" onclick=\"convertToInteractive('df-012906a1-ff99-48c6-ac21-71930c6fa94e')\"\n",
              "              title=\"Convert this dataframe to an interactive table.\"\n",
              "              style=\"display:none;\">\n",
              "        \n",
              "  <svg xmlns=\"http://www.w3.org/2000/svg\" height=\"24px\"viewBox=\"0 0 24 24\"\n",
              "       width=\"24px\">\n",
              "    <path d=\"M0 0h24v24H0V0z\" fill=\"none\"/>\n",
              "    <path d=\"M18.56 5.44l.94 2.06.94-2.06 2.06-.94-2.06-.94-.94-2.06-.94 2.06-2.06.94zm-11 1L8.5 8.5l.94-2.06 2.06-.94-2.06-.94L8.5 2.5l-.94 2.06-2.06.94zm10 10l.94 2.06.94-2.06 2.06-.94-2.06-.94-.94-2.06-.94 2.06-2.06.94z\"/><path d=\"M17.41 7.96l-1.37-1.37c-.4-.4-.92-.59-1.43-.59-.52 0-1.04.2-1.43.59L10.3 9.45l-7.72 7.72c-.78.78-.78 2.05 0 2.83L4 21.41c.39.39.9.59 1.41.59.51 0 1.02-.2 1.41-.59l7.78-7.78 2.81-2.81c.8-.78.8-2.07 0-2.86zM5.41 20L4 18.59l7.72-7.72 1.47 1.35L5.41 20z\"/>\n",
              "  </svg>\n",
              "      </button>\n",
              "      \n",
              "  <style>\n",
              "    .colab-df-container {\n",
              "      display:flex;\n",
              "      flex-wrap:wrap;\n",
              "      gap: 12px;\n",
              "    }\n",
              "\n",
              "    .colab-df-convert {\n",
              "      background-color: #E8F0FE;\n",
              "      border: none;\n",
              "      border-radius: 50%;\n",
              "      cursor: pointer;\n",
              "      display: none;\n",
              "      fill: #1967D2;\n",
              "      height: 32px;\n",
              "      padding: 0 0 0 0;\n",
              "      width: 32px;\n",
              "    }\n",
              "\n",
              "    .colab-df-convert:hover {\n",
              "      background-color: #E2EBFA;\n",
              "      box-shadow: 0px 1px 2px rgba(60, 64, 67, 0.3), 0px 1px 3px 1px rgba(60, 64, 67, 0.15);\n",
              "      fill: #174EA6;\n",
              "    }\n",
              "\n",
              "    [theme=dark] .colab-df-convert {\n",
              "      background-color: #3B4455;\n",
              "      fill: #D2E3FC;\n",
              "    }\n",
              "\n",
              "    [theme=dark] .colab-df-convert:hover {\n",
              "      background-color: #434B5C;\n",
              "      box-shadow: 0px 1px 3px 1px rgba(0, 0, 0, 0.15);\n",
              "      filter: drop-shadow(0px 1px 2px rgba(0, 0, 0, 0.3));\n",
              "      fill: #FFFFFF;\n",
              "    }\n",
              "  </style>\n",
              "\n",
              "      <script>\n",
              "        const buttonEl =\n",
              "          document.querySelector('#df-012906a1-ff99-48c6-ac21-71930c6fa94e button.colab-df-convert');\n",
              "        buttonEl.style.display =\n",
              "          google.colab.kernel.accessAllowed ? 'block' : 'none';\n",
              "\n",
              "        async function convertToInteractive(key) {\n",
              "          const element = document.querySelector('#df-012906a1-ff99-48c6-ac21-71930c6fa94e');\n",
              "          const dataTable =\n",
              "            await google.colab.kernel.invokeFunction('convertToInteractive',\n",
              "                                                     [key], {});\n",
              "          if (!dataTable) return;\n",
              "\n",
              "          const docLinkHtml = 'Like what you see? Visit the ' +\n",
              "            '<a target=\"_blank\" href=https://colab.research.google.com/notebooks/data_table.ipynb>data table notebook</a>'\n",
              "            + ' to learn more about interactive tables.';\n",
              "          element.innerHTML = '';\n",
              "          dataTable['output_type'] = 'display_data';\n",
              "          await google.colab.output.renderOutput(dataTable, element);\n",
              "          const docLink = document.createElement('div');\n",
              "          docLink.innerHTML = docLinkHtml;\n",
              "          element.appendChild(docLink);\n",
              "        }\n",
              "      </script>\n",
              "    </div>\n",
              "  </div>\n",
              "  "
            ]
          },
          "metadata": {},
          "execution_count": 101
        }
      ]
    }
  ],
  "metadata": {
    "colab": {
      "provenance": []
    },
    "kernelspec": {
      "display_name": "Python 3",
      "name": "python3"
    },
    "language_info": {
      "name": "python"
    },
    "accelerator": "GPU",
    "gpuClass": "standard"
  },
  "nbformat": 4,
  "nbformat_minor": 0
}